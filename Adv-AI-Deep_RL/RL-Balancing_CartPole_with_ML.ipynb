{
 "cells": [
  {
   "cell_type": "code",
   "execution_count": 1,
   "metadata": {},
   "outputs": [],
   "source": [
    "import gym\n",
    "import numpy as np\n",
    "import random\n",
    "import math"
   ]
  },
  {
   "cell_type": "code",
   "execution_count": 2,
   "metadata": {},
   "outputs": [],
   "source": [
    "env = gym.make('CartPole-v0')"
   ]
  },
  {
   "cell_type": "code",
   "execution_count": 3,
   "metadata": {},
   "outputs": [],
   "source": [
    "no_buckets = (1, 1, 6, 3)\n",
    "no_actions = env.action_space.n"
   ]
  },
  {
   "cell_type": "code",
   "execution_count": 4,
   "metadata": {},
   "outputs": [],
   "source": [
    "state_value_bounds = list(zip(env.observation_space.low, env.observation_space.high))\n",
    "state_value_bounds[1] = [-0.5, 0.5]\n",
    "state_value_bounds[3] = [-math.radians(50), math.radians(50)]"
   ]
  },
  {
   "cell_type": "code",
   "execution_count": 5,
   "metadata": {},
   "outputs": [],
   "source": [
    "action_index = len(no_buckets)"
   ]
  },
  {
   "cell_type": "code",
   "execution_count": 6,
   "metadata": {},
   "outputs": [],
   "source": [
    "q_value_table = np.zeros(no_buckets + (no_actions,))"
   ]
  },
  {
   "cell_type": "code",
   "execution_count": 7,
   "metadata": {},
   "outputs": [],
   "source": [
    "min_explore_rate = 0.01\n",
    "min_learning_rate = 0.1"
   ]
  },
  {
   "cell_type": "code",
   "execution_count": 8,
   "metadata": {},
   "outputs": [],
   "source": [
    "max_episodes = 1000\n",
    "max_time_steps = 250\n",
    "streak_to_end = 120\n",
    "solved_time = 199\n",
    "discount = 0.99\n",
    "no_streaks = 0"
   ]
  },
  {
   "cell_type": "code",
   "execution_count": 9,
   "metadata": {},
   "outputs": [],
   "source": [
    "def select_action(state_value, explore_rate):\n",
    "    if random.random() < explore_rate:\n",
    "        action = env.action_space.sample()\n",
    "    else:\n",
    "        action = np.argmax(q_value_table[state_value])\n",
    "    return action"
   ]
  },
  {
   "cell_type": "code",
   "execution_count": 10,
   "metadata": {},
   "outputs": [],
   "source": [
    "def select_explore_rate(x):\n",
    "    return max(min_explore_rate, min(1, 1.0 - math.log10((x+1)/25)))"
   ]
  },
  {
   "cell_type": "code",
   "execution_count": 11,
   "metadata": {},
   "outputs": [],
   "source": [
    "def select_learning_rate(x):\n",
    "    return max(min_learning_rate, min(0.5, 1.0 - math.log10((x+1)/25)))"
   ]
  },
  {
   "cell_type": "code",
   "execution_count": 12,
   "metadata": {},
   "outputs": [],
   "source": [
    "def bucketize_state_value(state_value):\n",
    "    bucket_indexes = []\n",
    "    for i in range(len(state_value)):\n",
    "        if state_value[i] <= state_value_bounds[i][0]:\n",
    "            bucket_index = 0\n",
    "        elif state_value[i] >= state_value_bounds[i][1]:\n",
    "            bucket_index = no_buckets[i] - 1\n",
    "        else:\n",
    "            bound_width = state_value_bounds[i][1] - state_value_bounds[i][0]\n",
    "            offset = (no_buckets[i]-1)*state_value_bounds[i][0]/bound_width\n",
    "            scaling = (no_buckets[i]-1)/bound_width\n",
    "            bucket_index = int(round(scaling*state_value[i] - offset))\n",
    "            bucket_indexes.append(bucket_index)\n",
    "        return tuple(bucket_indexes)"
   ]
  },
  {
   "cell_type": "code",
   "execution_count": 13,
   "metadata": {},
   "outputs": [
    {
     "name": "stderr",
     "output_type": "stream",
     "text": [
      "/home/remo/anaconda3/lib/python3.8/site-packages/gym/envs/classic_control/cartpole.py:150: UserWarning: \u001b[33mWARN: You are calling 'step()' even though this environment has already returned done = True. You should always call 'reset()' once you receive 'done = True' -- any further steps are undefined behavior.\u001b[0m\n",
      "  logger.warn(\n"
     ]
    }
   ],
   "source": [
    "for episode_no in range(max_episodes):\n",
    "    explore_rate = select_explore_rate(episode_no)\n",
    "    learning_rate = select_learning_rate(episode_no)\n",
    "    \n",
    "observation = env.reset()\n",
    "\n",
    "start_state_value = bucketize_state_value(observation)\n",
    "previous_state_value = start_state_value\n",
    "\n",
    "\n",
    "for time_step in range(max_time_steps):\n",
    "    env.render()\n",
    "    selected_action = select_action(previous_state_value, explore_rate)\n",
    "    observation, reward_gain, completed, _ = env.step(selected_action) \n",
    "    state_value = bucketize_state_value(observation)\n",
    "    best_q_value = np.amax(q_value_table[state_value])\n",
    "    q_value_table[previous_state_value + (selected_action,)] += learning_rate * (\n",
    "    reward_gain + discount * (best_q_value) - q_value_table[previous_state_value + (selected_action,)])"
   ]
  },
  {
   "cell_type": "code",
   "execution_count": 16,
   "metadata": {},
   "outputs": [
    {
     "ename": "IndentationError",
     "evalue": "unexpected indent (<ipython-input-16-288e340e77f1>, line 17)",
     "output_type": "error",
     "traceback": [
      "\u001b[0;36m  File \u001b[0;32m\"<ipython-input-16-288e340e77f1>\"\u001b[0;36m, line \u001b[0;32m17\u001b[0m\n\u001b[0;31m    break\u001b[0m\n\u001b[0m    ^\u001b[0m\n\u001b[0;31mIndentationError\u001b[0m\u001b[0;31m:\u001b[0m unexpected indent\n"
     ]
    }
   ],
   "source": [
    "# print('Episode number : %d' % episode_no)\n",
    "print('Time step : %d' % time_step)\n",
    "print('Selection action : %d' % selected_action)\n",
    "print('Current state : %s' % str(state_value))\n",
    "print('Reward obtained : %f' % reward_gain)\n",
    "print('Best Q value : %f' % best_q_value)\n",
    "print('Learning rate : %f' % learning_rate)\n",
    "print('Explore rate : %f' %explore_rate)\n",
    "print('Streak number : %d' % no_streaks)\n",
    "\n",
    "if completed:\n",
    "    print('Episode %d finished after %f time steps' % (episode_no, time_step))\n",
    "    if time_step >= solved_time:\n",
    "        no_streaks += 1\n",
    "    else:\n",
    "        no_streaks = 0\n",
    "            break\n",
    "previous_state_value = state_value\n",
    "\n",
    "if no_streaks > streak_to_end:\n",
    "    break"
   ]
  },
  {
   "cell_type": "code",
   "execution_count": null,
   "metadata": {},
   "outputs": [],
   "source": []
  }
 ],
 "metadata": {
  "kernelspec": {
   "display_name": "Python 3",
   "language": "python",
   "name": "python3"
  },
  "language_info": {
   "codemirror_mode": {
    "name": "ipython",
    "version": 3
   },
   "file_extension": ".py",
   "mimetype": "text/x-python",
   "name": "python",
   "nbconvert_exporter": "python",
   "pygments_lexer": "ipython3",
   "version": "3.8.5"
  }
 },
 "nbformat": 4,
 "nbformat_minor": 4
}
