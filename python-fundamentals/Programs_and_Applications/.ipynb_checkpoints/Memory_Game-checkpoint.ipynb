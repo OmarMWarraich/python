{
 "cells": [
  {
   "cell_type": "code",
   "execution_count": null,
   "id": "98bdc005",
   "metadata": {},
   "outputs": [],
   "source": [
    "import time, random\n",
    "\n",
    "digits = input(\"How many digits do you want to guess: \")\n",
    "digits = int(digits)\n",
    "\n",
    "sequence = []\n",
    "for i in range(0,digits):\n",
    "    sequence.append(random.randint(0,9))\n",
    "print(sequence)\n",
    "time.sleep(5)\n",
    "for i in range(0, 50):\n",
    "    print('')\n",
    "\n",
    "for i in range(0,digits):\n",
    "    print('enter number at index  + str(i)')\n",
    "    num = int(input())\n",
    "    if num == sequence[i]:\n",
    "        print(\"correct\")\n",
    "    else:\n",
    "        print(\"wrong\")\n",
    "        break\n",
    "print(sequence)"
   ]
  },
  {
   "cell_type": "markdown",
   "id": "e635463a",
   "metadata": {},
   "source": []
  }
 ],
 "metadata": {
  "kernelspec": {
   "display_name": "Python 3",
   "language": "python",
   "name": "python3"
  },
  "language_info": {
   "codemirror_mode": {
    "name": "ipython",
    "version": 3
   },
   "file_extension": ".py",
   "mimetype": "text/x-python",
   "name": "python",
   "nbconvert_exporter": "python",
   "pygments_lexer": "ipython3",
   "version": "3.8.8"
  }
 },
 "nbformat": 4,
 "nbformat_minor": 5
}
