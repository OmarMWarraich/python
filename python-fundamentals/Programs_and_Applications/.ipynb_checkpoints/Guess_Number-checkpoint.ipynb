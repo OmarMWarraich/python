{
 "cells": [
  {
   "cell_type": "code",
   "execution_count": 15,
   "id": "71f20a7c",
   "metadata": {},
   "outputs": [
    {
     "name": "stdout",
     "output_type": "stream",
     "text": [
      "please guess a number 1-100: 99\n",
      "too big\n",
      "please guess a number 1-100: 33\n",
      "too big\n",
      "please guess a number 1-100: 44\n",
      "too big\n",
      "please guess a number 1-100: 55\n",
      "too big\n",
      "please guess a number 1-100: 66\n",
      "too big\n",
      "please guess a number 1-100: 22\n",
      "too big\n",
      "please guess a number 1-100: 11\n",
      "well done, you guessed the right number\n",
      "it took you 7 tries\n"
     ]
    }
   ],
   "source": [
    "import random\n",
    "\n",
    "xNum = random.randint(1,100)\n",
    "found = False\n",
    "counter = 0\n",
    "\n",
    "while found == False:\n",
    "    yourNum = int(input('please guess a number 1-100: '))\n",
    "    counter = counter + 1\n",
    "    if yourNum > xNum:\n",
    "        print(\"too big\")\n",
    "    elif yourNum < xNum:\n",
    "        print(\"too small\")\n",
    "    else:\n",
    "        print(\"well done, you guessed the right number\")\n",
    "        print(\"it took you \" + str(counter) + \" tries\")\n",
    "        found = True"
   ]
  },
  {
   "cell_type": "code",
   "execution_count": null,
   "id": "430814fd",
   "metadata": {},
   "outputs": [],
   "source": []
  }
 ],
 "metadata": {
  "kernelspec": {
   "display_name": "Python 3",
   "language": "python",
   "name": "python3"
  },
  "language_info": {
   "codemirror_mode": {
    "name": "ipython",
    "version": 3
   },
   "file_extension": ".py",
   "mimetype": "text/x-python",
   "name": "python",
   "nbconvert_exporter": "python",
   "pygments_lexer": "ipython3",
   "version": "3.8.8"
  }
 },
 "nbformat": 4,
 "nbformat_minor": 5
}
