{
 "cells": [
  {
   "cell_type": "code",
   "execution_count": null,
   "id": "0408ebf0",
   "metadata": {},
   "outputs": [],
   "source": [
    "import string\n",
    "text = open(\"abc.txt\")\n",
    "text = text.read()\n",
    "\n",
    "punctuation = \"!@#$%^&*()_+-,.<>/?;`:[//]~{\\\\|}\"\n",
    "for c in text:\n",
    "    if c in punctuation:\n",
    "        text = text.replace(c,'')\n",
    "        \n",
    "text = text.lower()\n",
    "allWords = text.split()\n",
    "\n",
    "nonRepeatWords = []\n",
    "for word in allWords:\n",
    "    if word not in nonRepeatWords:\n",
    "        nonRepeatWords.append(word)\n",
    "        \n",
    "dicitonary = {}\n",
    "for word in nonRepeatWords:\n",
    "    dictionary[word] = allWords.count(word)\n",
    "    \n",
    "rankedList = sorted(dictionary, key=dictionary.get, reverse = True)\n",
    "\n",
    "print(rankedList[0:10])\n",
    "\n",
    "for i in range(0,20):\n",
    "    key = rankedList[i]\n",
    "    value = dictionary[key]\n",
    "    print(key + ' repeats ' + str(value) + ' times ')\n",
    "    "
   ]
  }
 ],
 "metadata": {
  "kernelspec": {
   "display_name": "Python 3",
   "language": "python",
   "name": "python3"
  },
  "language_info": {
   "codemirror_mode": {
    "name": "ipython",
    "version": 3
   },
   "file_extension": ".py",
   "mimetype": "text/x-python",
   "name": "python",
   "nbconvert_exporter": "python",
   "pygments_lexer": "ipython3",
   "version": "3.8.8"
  }
 },
 "nbformat": 4,
 "nbformat_minor": 5
}
