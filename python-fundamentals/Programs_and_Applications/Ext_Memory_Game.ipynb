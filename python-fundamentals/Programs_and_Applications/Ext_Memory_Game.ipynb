{
 "cells": [
  {
   "cell_type": "code",
   "execution_count": null,
   "id": "aea7765d",
   "metadata": {},
   "outputs": [],
   "source": [
    "import time, random\n",
    "text = open('xyz.txt')\n",
    "text = text.read()\n",
    "\n",
    "def menu():\n",
    "    items = input(\"How many items do you want to guess: \")\n",
    "    items = int(items)\n",
    "    print(\"type 1 for guessing numbers and 2 for guessing words\")\n",
    "    choice = input()\n",
    "    if choice == \"1\":\n",
    "        memoryList = numberSequence(items)\n",
    "    if choice == \"2\":\n",
    "        memoryList = wordSequence(items, text)\n",
    "    print(memoryList)\n",
    "    hide()\n",
    "    check(items,memoryList)\n",
    "\n",
    "def numberSequence(numItems):\n",
    "    sequence = []\n",
    "    for i in range(0, numItems):\n",
    "        sequence.append(str(random.randint(0,9)))\n",
    "    return sequence\n",
    "\n",
    "def wordSequence(numItems, textInput):\n",
    "    wordList = textInput.slpit()\n",
    "    sequence = []\n",
    "    for i in range(0, numItems):\n",
    "        sequence.append(str(random.choice(wordList)))\n",
    "    return sequence\n",
    "\n",
    "def hide():\n",
    "    time.sleep(5)\n",
    "    for i in range(0,50):\n",
    "        print(\"\")\n",
    "\n",
    "def check(numItems,memList):\n",
    "    for i in range(0,numItems):\n",
    "        print(\"enter number at index\" + str(i))\n",
    "        ans = input()\n",
    "        if ans == memList[i]:\n",
    "            print(\"correct\")\n",
    "        else:\n",
    "            print(\"WRONG\")\n",
    "            return None\n",
    "    print(\"Well Done You got it right\")\n",
    "    \n",
    "menu()"
   ]
  },
  {
   "cell_type": "markdown",
   "id": "5594268b",
   "metadata": {},
   "source": []
  }
 ],
 "metadata": {
  "kernelspec": {
   "display_name": "Python 3",
   "language": "python",
   "name": "python3"
  },
  "language_info": {
   "codemirror_mode": {
    "name": "ipython",
    "version": 3
   },
   "file_extension": ".py",
   "mimetype": "text/x-python",
   "name": "python",
   "nbconvert_exporter": "python",
   "pygments_lexer": "ipython3",
   "version": "3.8.8"
  }
 },
 "nbformat": 4,
 "nbformat_minor": 5
}
