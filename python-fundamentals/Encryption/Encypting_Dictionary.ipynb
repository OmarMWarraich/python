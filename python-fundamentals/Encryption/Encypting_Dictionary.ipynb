{
 "cells": [
  {
   "cell_type": "code",
   "execution_count": 5,
   "id": "f139afb3",
   "metadata": {},
   "outputs": [
    {
     "name": "stdout",
     "output_type": "stream",
     "text": [
      "write a message you want to encrypt: hello\n",
      "what shift do you want to use?5\n",
      "mjqqt\n"
     ]
    }
   ],
   "source": [
    "alphabet = ['a','b','c','d','e','f','g','h','i','j','k','l',\n",
    "               'm','n','o','p','q','r','s','t','u','v','w','x','y','z']\n",
    "\n",
    "message = input(\"write a message you want to encrypt: \")\n",
    "message = message.lower()\n",
    "shift = input('what shift do you want to use?')\n",
    "shift = int(shift)\n",
    "d = {}\n",
    "cypherText = ''\n",
    "\n",
    "for i in range(0,26):\n",
    "    letter = alphabet[i]\n",
    "    shiftedLetter = alphabet[(i+shift)%26]\n",
    "    d[letter] = shiftedLetter\n",
    "\n",
    "for letter in message:\n",
    "    if letter in alphabet:\n",
    "        letter = d[letter]\n",
    "        cypherText = cypherText + letter\n",
    "    else:\n",
    "        cypherText = cypherText + letter\n",
    "        \n",
    "print(cypherText)"
   ]
  },
  {
   "cell_type": "code",
   "execution_count": null,
   "id": "ee500513",
   "metadata": {},
   "outputs": [],
   "source": []
  }
 ],
 "metadata": {
  "kernelspec": {
   "display_name": "Python 3",
   "language": "python",
   "name": "python3"
  },
  "language_info": {
   "codemirror_mode": {
    "name": "ipython",
    "version": 3
   },
   "file_extension": ".py",
   "mimetype": "text/x-python",
   "name": "python",
   "nbconvert_exporter": "python",
   "pygments_lexer": "ipython3",
   "version": "3.8.8"
  }
 },
 "nbformat": 4,
 "nbformat_minor": 5
}
