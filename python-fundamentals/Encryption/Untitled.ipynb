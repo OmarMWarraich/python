{
 "cells": [
  {
   "cell_type": "code",
   "execution_count": 1,
   "id": "e7a8a0b1",
   "metadata": {},
   "outputs": [
    {
     "name": "stdout",
     "output_type": "stream",
     "text": [
      "write a messageyou want to encrypt: Apache NiFi is mainly used for data acquisition, transportation, a guarantee of data delivery, capable of handling complicated and diverse data flows, inclusive of data-based event processing with buffering and prioritized queuing, and last but not least it a user-friendly visual interface for development, \n",
      "bqbdif ojgj jt nbjomz vtfe gps ebub bdrvjtjujpo, usbotqpsubujpo, b hvbsbouff pg ebub efmjwfsz, dbqbcmf pg iboemjoh dpnqmjdbufe boe ejwfstf ebub gmpxt, jodmvtjwf pg ebub-cbtfe fwfou qspdfttjoh xjui cvggfsjoh boe qsjpsjujafe rvfvjoh, boe mbtu cvu opu mfbtu ju b vtfs-gsjfoemz wjtvbm joufsgbdf gps efwfmpqnfou, \n",
      "crcejg pkhk ku ockpna wugf hqt fcvc ceswkukvkqp, vtcpurqtvcvkqp, c iwctcpvgg qh fcvc fgnkxgta, ecrcdng qh jcpfnkpi eqornkecvgf cpf fkxgtug fcvc hnqyu, kpenwukxg qh fcvc-dcugf gxgpv rtqeguukpi ykvj dwhhgtkpi cpf rtkqtkvkbgf swgwkpi, cpf ncuv dwv pqv ngcuv kv c wugt-htkgpfna xkuwcn kpvgthceg hqt fgxgnqrogpv, \n",
      "dsdfkh qlil lv pdlqob xvhg iru gdwd dftxlvlwlrq, wudqvsruwdwlrq, d jxdudqwhh ri gdwd gholyhub, fdsdeoh ri kdqgolqj frpsolfdwhg dqg glyhuvh gdwd iorzv, lqfoxvlyh ri gdwd-edvhg hyhqw surfhvvlqj zlwk exiihulqj dqg sulrulwlchg txhxlqj, dqg odvw exw qrw ohdvw lw d xvhu-iulhqgob ylvxdo lqwhuidfh iru ghyhorsphqw, \n",
      "etegli rmjm mw qemrpc ywih jsv hexe eguymwmxmsr, xverwtsvxexmsr, e kyeverxii sj hexe hipmzivc, getefpi sj lerhpmrk gsqtpmgexih erh hmzivwi hexe jpsaw, mrgpywmzi sj hexe-fewih izirx tvsgiwwmrk amxl fyjjivmrk erh tvmsvmxmdih uyiymrk, erh pewx fyx rsx piewx mx e ywiv-jvmirhpc zmwyep mrxivjegi jsv hizipstqirx, \n",
      "fufhmj snkn nx rfnsqd zxji ktw ifyf fhvznxnynts, ywfsxutwyfynts, f lzfwfsyjj tk ifyf ijqnajwd, hfufgqj tk mfsiqnsl htruqnhfyji fsi inajwxj ifyf kqtbx, nshqzxnaj tk ifyf-gfxji jajsy uwthjxxnsl bnym gzkkjwnsl fsi uwntwnyneji vzjznsl, fsi qfxy gzy sty qjfxy ny f zxjw-kwnjsiqd anxzfq nsyjwkfhj ktw ijajqturjsy, \n",
      "gvgink tolo oy sgotre aykj lux jgzg giwaoyozout, zxgtyvuxzgzout, g magxgtzkk ul jgzg jkrobkxe, igvghrk ul ngtjrotm iusvroigzkj gtj jobkxyk jgzg lrucy, otirayobk ul jgzg-hgykj kbktz vxuikyyotm cozn hallkxotm gtj vxouxozofkj wakaotm, gtj rgyz haz tuz rkgyz oz g aykx-lxoktjre boyagr otzkxlgik lux jkbkruvsktz, \n",
      "hwhjol upmp pz thpusf bzlk mvy khah hjxbpzpapvu, ayhuzwvyahapvu, h nbhyhuall vm khah klspclyf, jhwhisl vm ohukspun jvtwspjhalk huk kpclyzl khah msvdz, pujsbzpcl vm khah-ihzlk lclua wyvjlzzpun dpao ibmmlypun huk wypvypapglk xblbpun, huk shza iba uva slhza pa h bzly-mypluksf cpzbhs pualymhjl mvy klclsvwtlua, \n",
      "ixikpm vqnq qa uiqvtg caml nwz libi ikycqaqbqwv, bzivaxwzbibqwv, i ocizivbmm wn libi lmtqdmzg, kixijtm wn pivltqvo kwuxtqkibml ivl lqdmzam libi ntwea, qvktcaqdm wn libi-jiaml mdmvb xzwkmaaqvo eqbp jcnnmzqvo ivl xzqwzqbqhml ycmcqvo, ivl tiab jcb vwb tmiab qb i camz-nzqmvltg dqacit qvbmznikm nwz lmdmtwxumvb, \n",
      "jyjlqn wror rb vjrwuh dbnm oxa mjcj jlzdrbrcrxw, cajwbyxacjcrxw, j pdjajwcnn xo mjcj mnurenah, ljyjkun xo qjwmurwp lxvyurljcnm jwm mrenabn mjcj ouxfb, rwludbren xo mjcj-kjbnm nenwc yaxlnbbrwp frcq kdoonarwp jwm yarxarcrinm zdndrwp, jwm ujbc kdc wxc unjbc rc j dbna-oarnwmuh erbdju rwcnaojln oxa mnenuxyvnwc, \n",
      "kzkmro xsps sc wksxvi econ pyb nkdk kmaescsdsyx, dbkxczybdkdsyx, k qekbkxdoo yp nkdk novsfobi, mkzklvo yp rkxnvsxq mywzvsmkdon kxn nsfobco nkdk pvygc, sxmvecsfo yp nkdk-lkcon ofoxd zbymoccsxq gsdr leppobsxq kxn zbsybsdsjon aeoesxq, kxn vkcd led xyd vokcd sd k ecob-pbsoxnvi fscekv sxdobpkmo pyb nofovyzwoxd, \n",
      "lalnsp ytqt td xltywj fdpo qzc olel lnbftdtetzy, eclydazceletzy, l rflclyepp zq olel opwtgpcj, nlalmwp zq slyowtyr nzxawtnlepo lyo otgpcdp olel qwzhd, tynwfdtgp zq olel-mldpo pgpye acznpddtyr htes mfqqpctyr lyo actzctetkpo bfpftyr, lyo wlde mfe yze wplde te l fdpc-qctpyowj gtdflw tyepcqlnp qzc opgpwzaxpye, \n",
      "mbmotq zuru ue ymuzxk geqp rad pmfm mocgueufuaz, fdmzebadfmfuaz, m sgmdmzfqq ar pmfm pqxuhqdk, ombmnxq ar tmzpxuzs oaybxuomfqp mzp puhqdeq pmfm rxaie, uzoxgeuhq ar pmfm-nmeqp qhqzf bdaoqeeuzs iuft ngrrqduzs mzp bduadufulqp cgqguzs, mzp xmef ngf zaf xqmef uf m geqd-rduqzpxk huegmx uzfqdrmoq rad pqhqxabyqzf, \n",
      "ncnpur avsv vf znvayl hfrq sbe qngn npdhvfvgvba, genafcbegngvba, n thnenagrr bs qngn qryvirel, pncnoyr bs unaqyvat pbzcyvpngrq naq qvirefr qngn sybjf, vapyhfvir bs qngn-onfrq rirag cebprffvat jvgu ohssrevat naq cevbevgvmrq dhrhvat, naq ynfg ohg abg yrnfg vg n hfre-sevraqyl ivfhny vagresnpr sbe qrirybczrag, \n",
      "odoqvs bwtw wg aowbzm igsr tcf roho oqeiwgwhwcb, hfobgdcfhohwcb, o uiofobhss ct roho rszwjsfm, qodopzs ct vobrzwbu qcadzwqohsr obr rwjsfgs roho tzckg, wbqzigwjs ct roho-pogsr sjsbh dfcqsggwbu kwhv pittsfwbu obr dfwcfwhwnsr eisiwbu, obr zogh pih bch zsogh wh o igsf-tfwsbrzm jwgioz wbhsftoqs tcf rsjszcdasbh, \n",
      "peprwt cxux xh bpxcan jhts udg spip prfjxhxixdc, igpchedgipixdc, p vjpgpcitt du spip staxktgn, rpepqat du wpcsaxcv rdbeaxrpits pcs sxktght spip uadlh, xcrajhxkt du spip-qphts tktci egdrthhxcv lxiw qjuutgxcv pcs egxdgxixots fjtjxcv, pcs aphi qji cdi atphi xi p jhtg-ugxtcsan kxhjpa xcitguprt udg stktadebtci, \n",
      "qfqsxu dyvy yi cqydbo kiut veh tqjq qsgkyiyjyed, jhqdifehjqjyed, q wkqhqdjuu ev tqjq tubyluho, sqfqrbu ev xqdtbydw secfbysqjut qdt tyluhiu tqjq vbemi, ydsbkiylu ev tqjq-rqiut uludj fhesuiiydw myjx rkvvuhydw qdt fhyehyjyput gkukydw, qdt bqij rkj dej buqij yj q kiuh-vhyudtbo lyikqb ydjuhvqsu veh tulubefcudj, \n",
      "rgrtyv ezwz zj drzecp ljvu wfi urkr rthlzjzkzfe, kirejgfikrkzfe, r xlrirekvv fw urkr uvczmvip, trgrscv fw yreuczex tfdgcztrkvu reu uzmvijv urkr wcfnj, zetcljzmv fw urkr-srjvu vmvek giftvjjzex nzky slwwvizex reu gizfizkzqvu hlvlzex, reu crjk slk efk cvrjk zk r ljvi-wizveucp mzjlrc zekviwrtv wfi uvmvcfgdvek, \n",
      "shsuzw faxa ak esafdq mkwv xgj vsls suimakalagf, ljsfkhgjlslagf, s ymsjsflww gx vsls vwdanwjq, ushstdw gx zsfvdafy ugehdauslwv sfv vanwjkw vsls xdgok, afudmkanw gx vsls-tskwv wnwfl hjguwkkafy oalz tmxxwjafy sfv hjagjalarwv imwmafy, sfv dskl tml fgl dwskl al s mkwj-xjawfvdq nakmsd aflwjxsuw xgj vwnwdghewfl, \n",
      "titvax gbyb bl ftbger nlxw yhk wtmt tvjnblbmbhg, mktglihkmtmbhg, t zntktgmxx hy wtmt wxeboxkr, vtituex hy atgwebgz vhfiebvtmxw tgw wboxklx wtmt yehpl, bgvenlbox hy wtmt-utlxw xoxgm ikhvxllbgz pbma unyyxkbgz tgw ikbhkbmbsxw jnxnbgz, tgw etlm unm ghm extlm bm t nlxk-ykbxgwer oblnte bgmxkytvx yhk wxoxehifxgm, \n",
      "ujuwby hczc cm guchfs omyx zil xunu uwkocmcncih, nluhmjilnuncih, u aouluhnyy iz xunu xyfcpyls, wujuvfy iz buhxfcha wigjfcwunyx uhx xcpylmy xunu zfiqm, chwfomcpy iz xunu-vumyx ypyhn jliwymmcha qcnb vozzylcha uhx jlcilcnctyx koyocha, uhx fumn von hin fyumn cn u omyl-zlcyhxfs pcmouf chnylzuwy zil xypyfijgyhn, \n",
      "vkvxcz idad dn hvdigt pnzy ajm yvov vxlpdndodji, omvinkjmovodji, v bpvmviozz ja yvov yzgdqzmt, xvkvwgz ja cviygdib xjhkgdxvozy viy ydqzmnz yvov agjrn, dixgpndqz ja yvov-wvnzy zqzio kmjxznndib rdoc wpaazmdib viy kmdjmdoduzy lpzpdib, viy gvno wpo ijo gzvno do v pnzm-amdziygt qdnpvg diozmavxz ajm yzqzgjkhzio, \n",
      "wlwyda jebe eo iwejhu qoaz bkn zwpw wymqeoepekj, pnwjolknpwpekj, w cqwnwjpaa kb zwpw zaheranu, ywlwxha kb dwjzhejc ykilheywpaz wjz zeranoa zwpw bhkso, ejyhqoera kb zwpw-xwoaz arajp lnkyaooejc sepd xqbbanejc wjz lneknepevaz mqaqejc, wjz hwop xqp jkp hawop ep w qoan-bneajzhu reoqwh ejpanbwya bkn zarahkliajp, \n",
      "xmxzeb kfcf fp jxfkiv rpba clo axqx xznrfpfqflk, qoxkpmloqxqflk, x drxoxkqbb lc axqx abifsbov, zxmxyib lc exkaifkd zljmifzxqba xka afsbopb axqx ciltp, fkzirpfsb lc axqx-yxpba bsbkq molzbppfkd tfqe yrccbofkd xka moflofqfwba nrbrfkd, xka ixpq yrq klq ibxpq fq x rpbo-cofbkaiv sfprxi fkqbocxzb clo absbilmjbkq, \n",
      "ynyafc lgdg gq kygljw sqcb dmp byry yaosgqgrgml, rpylqnmpryrgml, y esypylrcc md byry bcjgtcpw, aynyzjc md fylbjgle amknjgayrcb ylb bgtcpqc byry djmuq, glajsqgtc md byry-zyqcb ctclr npmacqqgle ugrf zsddcpgle ylb npgmpgrgxcb oscsgle, ylb jyqr zsr lmr jcyqr gr y sqcp-dpgclbjw tgqsyj glrcpdyac dmp bctcjmnkclr, \n",
      "zozbgd mheh hr lzhmkx trdc enq czsz zbpthrhshnm, sqzmronqszshnm, z ftzqzmsdd ne czsz cdkhudqx, bzozakd ne gzmckhmf bnlokhbzsdc zmc chudqrd czsz eknvr, hmbktrhud ne czsz-azrdc dudms oqnbdrrhmf vhsg ateedqhmf zmc oqhnqhshydc ptdthmf, zmc kzrs ats mns kdzrs hs z trdq-eqhdmckx uhrtzk hmsdqezbd enq cdudknoldms, \n"
     ]
    }
   ],
   "source": [
    "alphabet = ['a','b','c','d','e','f','g','h','i','j','k',\n",
    "           'l','m','n','o','p','q','r','s','t','u','v','w','x','y','z']\n",
    "\n",
    "message = input(\"write a messageyou want to encrypt: \")\n",
    "message = message.lower()\n",
    "\n",
    "for shift in range(1,26):\n",
    "    d = {}\n",
    "    cypherText = ''\n",
    "    for i in range(0,26):\n",
    "        letter = alphabet[i]\n",
    "        shiftedLetter = alphabet[(i+shift)%26]\n",
    "        d[letter] = shiftedLetter\n",
    "    \n",
    "    for letter in message:\n",
    "        if letter in alphabet:\n",
    "            letter = d[letter]\n",
    "            cypherText = cypherText + letter\n",
    "        else:\n",
    "            cypherText = cypherText + letter\n",
    "    print(cypherText)"
   ]
  },
  {
   "cell_type": "code",
   "execution_count": null,
   "id": "d044634d",
   "metadata": {},
   "outputs": [],
   "source": []
  }
 ],
 "metadata": {
  "kernelspec": {
   "display_name": "Python 3",
   "language": "python",
   "name": "python3"
  },
  "language_info": {
   "codemirror_mode": {
    "name": "ipython",
    "version": 3
   },
   "file_extension": ".py",
   "mimetype": "text/x-python",
   "name": "python",
   "nbconvert_exporter": "python",
   "pygments_lexer": "ipython3",
   "version": "3.8.8"
  }
 },
 "nbformat": 4,
 "nbformat_minor": 5
}
