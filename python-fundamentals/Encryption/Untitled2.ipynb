{
 "cells": [
  {
   "cell_type": "code",
   "execution_count": 1,
   "id": "cc0ca217",
   "metadata": {},
   "outputs": [
    {
     "name": "stdout",
     "output_type": "stream",
     "text": [
      "write a message you want to encrypt: helo\n",
      "what password do you want to use: snak\n",
      "zrly\n"
     ]
    }
   ],
   "source": [
    "alphabet = ['a','b','c','d','e','f','g','h','i','j','k','l','m',\n",
    "           'n','o','p','q','r','s','t','u','v','w','x','y','z']\n",
    "\n",
    "message = input(\"write a message you want to encrypt: \")\n",
    "message = message.lower()\n",
    "\n",
    "password = input(\"what password do you want to use: \")\n",
    "password = password.lower()\n",
    "password = password * len(message)\n",
    "\n",
    "cypherText = ''\n",
    "\n",
    "count = 0\n",
    "for letter in message:\n",
    "    if letter in alphabet:\n",
    "        #define shift \n",
    "        shift = alphabet.index(password[count])\n",
    "        #define the cypher letter\n",
    "        letterIndex = alphabet.index(letter)\n",
    "        cypherLetter = alphabet[(letterIndex+shift)%26]\n",
    "        cypherText = cypherText + cypherLetter\n",
    "    else:\n",
    "        cypherText = cypherText + cypherLetter\n",
    "        \n",
    "    count = count + 1\n",
    "\n",
    "print(cypherText)"
   ]
  },
  {
   "cell_type": "code",
   "execution_count": null,
   "id": "528f0b8d",
   "metadata": {},
   "outputs": [],
   "source": []
  }
 ],
 "metadata": {
  "kernelspec": {
   "display_name": "Python 3",
   "language": "python",
   "name": "python3"
  },
  "language_info": {
   "codemirror_mode": {
    "name": "ipython",
    "version": 3
   },
   "file_extension": ".py",
   "mimetype": "text/x-python",
   "name": "python",
   "nbconvert_exporter": "python",
   "pygments_lexer": "ipython3",
   "version": "3.8.8"
  }
 },
 "nbformat": 4,
 "nbformat_minor": 5
}
