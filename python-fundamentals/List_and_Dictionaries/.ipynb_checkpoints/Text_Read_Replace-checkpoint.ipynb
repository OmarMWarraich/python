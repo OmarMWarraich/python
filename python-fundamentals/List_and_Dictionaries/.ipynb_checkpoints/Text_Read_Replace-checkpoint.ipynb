{
 "cells": [
  {
   "cell_type": "code",
   "execution_count": null,
   "id": "82e5b182",
   "metadata": {},
   "outputs": [],
   "source": [
    "text = open('abc.txt')\n",
    "text = text.read()\n",
    "\n",
    "text = text[0:5600]\n",
    "\n",
    "d = {}\n",
    "\n",
    "d['Harry'] = '__Kid Magic__'\n",
    "d['Harry Potter'] = '__Kid Magic__'\n",
    "d['Dudley'] = '__Mean Kid__'\n",
    "d['Mr. Dursley'] = '__Father of Mean Kid__'\n",
    "\n",
    "for key in d:\n",
    "    text = text.replace(key, d[key])\n",
    "\n",
    "print(text)"
   ]
  }
 ],
 "metadata": {
  "kernelspec": {
   "display_name": "Python 3",
   "language": "python",
   "name": "python3"
  },
  "language_info": {
   "codemirror_mode": {
    "name": "ipython",
    "version": 3
   },
   "file_extension": ".py",
   "mimetype": "text/x-python",
   "name": "python",
   "nbconvert_exporter": "python",
   "pygments_lexer": "ipython3",
   "version": "3.8.8"
  }
 },
 "nbformat": 4,
 "nbformat_minor": 5
}
