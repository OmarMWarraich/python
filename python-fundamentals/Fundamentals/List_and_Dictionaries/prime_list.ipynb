{
 "cells": [
  {
   "cell_type": "code",
   "execution_count": null,
   "id": "c340a76f",
   "metadata": {},
   "outputs": [],
   "source": [
    "limit = int(input(\"Enter the Upper Limit: \"))\n",
    "primes = []\n",
    "\n",
    "for num in range(2, limit + 1):\n",
    "    counter = 0\n",
    "    for i in range(1, num+1):\n",
    "        if(num%i == 0):\n",
    "            counter = counter + 1\n",
    "    if(counter ==2):\n",
    "        primes.append(num)\n",
    "print(primes)"
   ]
  },
  {
   "cell_type": "code",
   "execution_count": null,
   "id": "0e1cd74d",
   "metadata": {},
   "outputs": [],
   "source": []
  }
 ],
 "metadata": {
  "kernelspec": {
   "display_name": "Python 3",
   "language": "python",
   "name": "python3"
  },
  "language_info": {
   "codemirror_mode": {
    "name": "ipython",
    "version": 3
   },
   "file_extension": ".py",
   "mimetype": "text/x-python",
   "name": "python",
   "nbconvert_exporter": "python",
   "pygments_lexer": "ipython3",
   "version": "3.8.8"
  }
 },
 "nbformat": 4,
 "nbformat_minor": 5
}
