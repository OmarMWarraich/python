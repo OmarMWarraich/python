{
 "cells": [
  {
   "cell_type": "code",
   "execution_count": null,
   "id": "a496cc79",
   "metadata": {},
   "outputs": [],
   "source": [
    "text = open('abc.txt')\n",
    "text = text.read()\n",
    "\n",
    "def main():\n",
    "    global text\n",
    "    text = stripPunctuation(text)\n",
    "    words = lowercaseList(text)\n",
    "    print(checkPalindrome(words))\n",
    "    \n",
    "#2 strip punctuation\n",
    "def strip punctuation(st):\n",
    "    punctuation = '!\"#$%&\\'()+,-./:;<=>?@[||]^_`{|}~\"\"'\n",
    "    for c in punctuation:\n",
    "        st = st.replace(c,'')\n",
    "    return st\n",
    "\n",
    "#3 lowercase everything then convert to list\n",
    "def lowerList(st)\n",
    "    st = st.lower()\n",
    "    st = st.split()\n",
    "    return st\n",
    "\n",
    "#4 reverse a string\n",
    "def reverse(string):\n",
    "    answer = ''\n",
    "    for i in range(len(string)-1,-1,-1):\n",
    "        letter = string[i]\n",
    "        answer = answer + letter\n",
    "    return answer\n",
    "\n",
    "#5 check it word == reverse word if so add to palindromes\n",
    "def check Palindrome(wordList):\n",
    "    palindromes= []\n",
    "    for word in wordList:\n",
    "        if len(word) > 1:\n",
    "            if word == reverse(word):\n",
    "                palindromes.append(word)\n",
    "    return palindromes"
   ]
  }
 ],
 "metadata": {
  "kernelspec": {
   "display_name": "Python 3",
   "language": "python",
   "name": "python3"
  },
  "language_info": {
   "codemirror_mode": {
    "name": "ipython",
    "version": 3
   },
   "file_extension": ".py",
   "mimetype": "text/x-python",
   "name": "python",
   "nbconvert_exporter": "python",
   "pygments_lexer": "ipython3",
   "version": "3.8.8"
  }
 },
 "nbformat": 4,
 "nbformat_minor": 5
}
