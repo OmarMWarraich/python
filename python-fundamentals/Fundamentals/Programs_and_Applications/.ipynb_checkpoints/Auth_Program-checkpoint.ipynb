{
 "cells": [
  {
   "cell_type": "code",
   "execution_count": 9,
   "id": "49bc04b6",
   "metadata": {},
   "outputs": [
    {
     "name": "stdout",
     "output_type": "stream",
     "text": [
      "Please enter your name: Samar\n",
      "Please enter your password:456789\n",
      "Access granted\n"
     ]
    }
   ],
   "source": [
    "username = \"Omar\"\n",
    "password = '123456'\n",
    "username2 = \"Samar\"\n",
    "password2 = \"456789\"\n",
    "\n",
    "inName = input(\"Please enter your name: \")\n",
    "if inName == username or inName == username2:\n",
    "    inPassword = input(\"Please enter your password:\")\n",
    "    if inName == username and inPassword == password:\n",
    "        print(\"Access granted\")\n",
    "    elif inName == username2 and inPassword == password2:\n",
    "        print(\"Access granted\")\n",
    "    else:\n",
    "        print(\"That is not a valid password.\")\n",
    "else:\n",
    "        print(\"That is not a valid user name.\")"
   ]
  },
  {
   "cell_type": "code",
   "execution_count": null,
   "id": "07ad2169",
   "metadata": {},
   "outputs": [],
   "source": []
  }
 ],
 "metadata": {
  "kernelspec": {
   "display_name": "Python 3",
   "language": "python",
   "name": "python3"
  },
  "language_info": {
   "codemirror_mode": {
    "name": "ipython",
    "version": 3
   },
   "file_extension": ".py",
   "mimetype": "text/x-python",
   "name": "python",
   "nbconvert_exporter": "python",
   "pygments_lexer": "ipython3",
   "version": "3.8.8"
  }
 },
 "nbformat": 4,
 "nbformat_minor": 5
}
