{
 "cells": [
  {
   "cell_type": "code",
   "execution_count": null,
   "id": "6e4137bd",
   "metadata": {},
   "outputs": [],
   "source": [
    "import random\n",
    "\n",
    "xNum = random.randint(1,100)\n",
    "found = False\n",
    "counter = 0\n",
    "\n",
    "while found == False:\n",
    "    yourNum = int(input('please guess a number 1-100: '))\n",
    "    counter = counter + 1\n",
    "    if yourNum > xNum:\n",
    "        print(\"too big\")\n",
    "    elif yourNum < xNum:\n",
    "        print(\"too small\")\n",
    "    else:\n",
    "        print(\"well done, you guessed the right number\")\n",
    "        print(\"it took you \" + str(counter) + \" tries\")\n",
    "        found = True"
   ]
  },
  {
   "cell_type": "code",
   "execution_count": null,
   "id": "e028c96a",
   "metadata": {},
   "outputs": [],
   "source": []
  }
 ],
 "metadata": {
  "kernelspec": {
   "display_name": "Python 3",
   "language": "python",
   "name": "python3"
  },
  "language_info": {
   "codemirror_mode": {
    "name": "ipython",
    "version": 3
   },
   "file_extension": ".py",
   "mimetype": "text/x-python",
   "name": "python",
   "nbconvert_exporter": "python",
   "pygments_lexer": "ipython3",
   "version": "3.8.8"
  }
 },
 "nbformat": 4,
 "nbformat_minor": 5
}
