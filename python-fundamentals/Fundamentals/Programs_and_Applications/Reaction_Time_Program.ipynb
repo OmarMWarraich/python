{
 "cells": [
  {
   "cell_type": "code",
   "execution_count": null,
   "id": "95dff2fd",
   "metadata": {},
   "outputs": [],
   "source": [
    "import time, random\n",
    "\n",
    "rounds = int(input(\"How many rounds do you want to play?\"))\n",
    "times = []\n",
    "\n",
    "for i in range(0, rounds):\n",
    "    print(\"when is say __GO__you hit ENTER!. got it?\")\n",
    "    time.sleep(1)\n",
    "    print(\"ready\")\n",
    "    time.sleep(1)\n",
    "    print(\"ready\")\n",
    "    time.sleep(random.randint(2,5))\n",
    "    print('#####__GO__#####')\n",
    "    tic = time.process_time()\n",
    "    a = input()\n",
    "    toc = time.process_time()\n",
    "    timeSpent = toc-tic\n",
    "    times.append(timeSpent)\n",
    "    print(\"your time was \" + str(timeSpent) + \"seconds\")\n",
    "\n",
    "print('fastest time was ' + str(min(times)))\n",
    "print('slowest time was ' + str(max(times)))\n",
    "average = sum(times)/len(times)\n",
    "print('the average was ' + str(average))\n"
   ]
  },
  {
   "cell_type": "markdown",
   "id": "e6508856",
   "metadata": {},
   "source": []
  }
 ],
 "metadata": {
  "kernelspec": {
   "display_name": "Python 3",
   "language": "python",
   "name": "python3"
  },
  "language_info": {
   "codemirror_mode": {
    "name": "ipython",
    "version": 3
   },
   "file_extension": ".py",
   "mimetype": "text/x-python",
   "name": "python",
   "nbconvert_exporter": "python",
   "pygments_lexer": "ipython3",
   "version": "3.8.8"
  }
 },
 "nbformat": 4,
 "nbformat_minor": 5
}
