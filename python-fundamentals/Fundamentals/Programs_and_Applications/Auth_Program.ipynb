{
 "cells": [
  {
   "cell_type": "code",
   "execution_count": null,
   "id": "d5803e85",
   "metadata": {},
   "outputs": [],
   "source": [
    "import time\n",
    "\n",
    "userPasswords = {\"Omar\":\"123\",\"Samar\":\"456\",\"Nasar\":\"789\",\"Tamseela\":\"987\",}\n",
    "\n",
    "accessGranted= False\n",
    "    \n",
    "while accessGranted == False:\n",
    "    inName = input(\"Please enter your name: \")\n",
    "    if inName in userPasswords:\n",
    "        goodPassword = False\n",
    "        while goodPassword == False:\n",
    "            inPassword = input(\"Please enter your password: \")\n",
    "            if inPassword == userPasswords[inName]:\n",
    "                goodPassword = True\n",
    "                accessGranted = True\n",
    "                print('waiting...')\n",
    "                time.sleep(1)\n",
    "                print('waiting...')\n",
    "                time.sleep(1)\n",
    "                print('waiting...')\n",
    "                time.sleep(1)\n",
    "            else:\n",
    "                print('waiting...')\n",
    "                time.sleep(1)\n",
    "                print('waiting...')\n",
    "                time.sleep(1)\n",
    "                print('waiting...')\n",
    "                time.sleep(1)\n",
    "                print(\"that is not a valid password\")\n",
    "    else:\n",
    "        print(\"that is not a valid username\")\n",
    "\n",
    "print(\"Access Granted\")"
   ]
  },
  {
   "cell_type": "code",
   "execution_count": null,
   "id": "a38a90e9",
   "metadata": {},
   "outputs": [],
   "source": []
  }
 ],
 "metadata": {
  "kernelspec": {
   "display_name": "Python 3",
   "language": "python",
   "name": "python3"
  },
  "language_info": {
   "codemirror_mode": {
    "name": "ipython",
    "version": 3
   },
   "file_extension": ".py",
   "mimetype": "text/x-python",
   "name": "python",
   "nbconvert_exporter": "python",
   "pygments_lexer": "ipython3",
   "version": "3.8.8"
  }
 },
 "nbformat": 4,
 "nbformat_minor": 5
}
