{
 "cells": [
  {
   "cell_type": "code",
   "execution_count": 3,
   "id": "bc784f86",
   "metadata": {},
   "outputs": [
    {
     "name": "stdout",
     "output_type": "stream",
     "text": [
      "when is say __GO__you hit ENTER!. got it?\n",
      "ready\n",
      "ready\n",
      "#####__GO__#####\n",
      "10\n",
      "your time was 0.21880537099999997seconds\n"
     ]
    }
   ],
   "source": [
    "import time, random\n",
    "\n",
    "print(\"when is say __GO__you hit ENTER!. got it?\")\n",
    "time.sleep(1)\n",
    "print(\"ready\")\n",
    "time.sleep(1)\n",
    "print(\"ready\")\n",
    "time.sleep(random.randint(2,5))\n",
    "print('#####__GO__#####')\n",
    "tic = time.process_time()\n",
    "a = input()\n",
    "toc = time.process_time()\n",
    "\n",
    "timeSpent = toc-tic\n",
    "print(\"your time was \" + str(timeSpent) + \"seconds\")"
   ]
  },
  {
   "cell_type": "code",
   "execution_count": null,
   "id": "0f4b8907",
   "metadata": {},
   "outputs": [],
   "source": []
  }
 ],
 "metadata": {
  "kernelspec": {
   "display_name": "Python 3",
   "language": "python",
   "name": "python3"
  },
  "language_info": {
   "codemirror_mode": {
    "name": "ipython",
    "version": 3
   },
   "file_extension": ".py",
   "mimetype": "text/x-python",
   "name": "python",
   "nbconvert_exporter": "python",
   "pygments_lexer": "ipython3",
   "version": "3.8.8"
  }
 },
 "nbformat": 4,
 "nbformat_minor": 5
}
