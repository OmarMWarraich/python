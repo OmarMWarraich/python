{
 "cells": [
  {
   "cell_type": "code",
   "execution_count": null,
   "id": "0cfb2762",
   "metadata": {},
   "outputs": [],
   "source": [
    "import random\n",
    "\n",
    "xNum = random.randint(1,100)\n",
    "found = False\n",
    "counter = 0\n",
    "\n",
    "while found == False:\n",
    "    yourNum = input('please guess a number 1-100: ')\n",
    "    counter = counter + 1\n",
    "    \n",
    "    if yourNum.isnumeric():\n",
    "        yourNum = int(yourNum)\n",
    "    else:\n",
    "        print(\"that is not a number\")\n",
    "        yourNum = int(input(\"please guess a number 1-100: \"))\n",
    "        \n",
    "    if abs(yourNum - xNum) < 10 and abs(yourNum - xNum) > 0:\n",
    "        print(\"close\")\n",
    "        \n",
    "    if yourNum > 100 or yourNum<1:\n",
    "        print('that number is out of range')\n",
    "        counter = counter - 1\n",
    "    \n",
    "    elif yourNum > xNum:\n",
    "        print(\"too big\")\n",
    "    \n",
    "    elif yourNum < xNum:\n",
    "        print(\"too small\")\n",
    "    else:\n",
    "        print(\"well done, you guessed the right number\")\n",
    "        print(\"it took you \" + str(counter) + \" tries\")\n",
    "        found = True"
   ]
  },
  {
   "cell_type": "code",
   "execution_count": null,
   "id": "10de9de2",
   "metadata": {},
   "outputs": [],
   "source": []
  }
 ],
 "metadata": {
  "kernelspec": {
   "display_name": "Python 3",
   "language": "python",
   "name": "python3"
  },
  "language_info": {
   "codemirror_mode": {
    "name": "ipython",
    "version": 3
   },
   "file_extension": ".py",
   "mimetype": "text/x-python",
   "name": "python",
   "nbconvert_exporter": "python",
   "pygments_lexer": "ipython3",
   "version": "3.8.8"
  }
 },
 "nbformat": 4,
 "nbformat_minor": 5
}
