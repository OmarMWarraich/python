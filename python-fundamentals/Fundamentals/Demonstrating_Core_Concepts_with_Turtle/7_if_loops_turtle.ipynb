{
 "cells": [
  {
   "cell_type": "code",
   "execution_count": null,
   "id": "d5aac087",
   "metadata": {},
   "outputs": [],
   "source": [
    "import turtle\n",
    "turtle.speed(100)\n",
    "\n",
    "length=int(input('please enter side length:'))\n",
    "sides=int(input('please enter number of sides:'))\n",
    "\n",
    "while True:\n",
    "    length = length -2 \n",
    "    turtle.forward(length)\n",
    "    turtle.left(360/sides)\n",
    "    turtle.left(1)\n",
    "    if length < 0:\n",
    "        break"
   ]
  },
  {
   "cell_type": "code",
   "execution_count": null,
   "id": "cbf4a060",
   "metadata": {},
   "outputs": [],
   "source": []
  }
 ],
 "metadata": {
  "kernelspec": {
   "display_name": "Python 3",
   "language": "python",
   "name": "python3"
  },
  "language_info": {
   "codemirror_mode": {
    "name": "ipython",
    "version": 3
   },
   "file_extension": ".py",
   "mimetype": "text/x-python",
   "name": "python",
   "nbconvert_exporter": "python",
   "pygments_lexer": "ipython3",
   "version": "3.8.8"
  }
 },
 "nbformat": 4,
 "nbformat_minor": 5
}
