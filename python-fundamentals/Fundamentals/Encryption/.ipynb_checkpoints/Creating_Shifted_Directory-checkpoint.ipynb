{
 "cells": [
  {
   "cell_type": "code",
   "execution_count": null,
   "id": "a990b9a9",
   "metadata": {},
   "outputs": [],
   "source": [
    "alphabet = ['a','b','c','d','e','f','g','h','i','j','k','l'\n",
    "               'm','n','o','p','q','r','s','t','u','v','w','x','y','z']\n",
    "\n",
    "message = input(\"write a message you want to encrypt: \")\n",
    "shift = input('what shift do you want to use?')\n",
    "shift = int(shift)\n",
    "d = {}\n",
    "\n",
    "for i in range(0,26):\n",
    "    letter = alphabet[i]\n",
    "    shiftedLetter = alphabet[(i+shift)%26]\n",
    "    d[letter] = shiftedLetter\n",
    "    print(letter+' = '+shiftedLetter)\n",
    "        \n",
    "print(d)"
   ]
  },
  {
   "cell_type": "code",
   "execution_count": null,
   "id": "bbe420c2",
   "metadata": {},
   "outputs": [],
   "source": []
  }
 ],
 "metadata": {
  "kernelspec": {
   "display_name": "Python 3",
   "language": "python",
   "name": "python3"
  },
  "language_info": {
   "codemirror_mode": {
    "name": "ipython",
    "version": 3
   },
   "file_extension": ".py",
   "mimetype": "text/x-python",
   "name": "python",
   "nbconvert_exporter": "python",
   "pygments_lexer": "ipython3",
   "version": "3.8.8"
  }
 },
 "nbformat": 4,
 "nbformat_minor": 5
}
