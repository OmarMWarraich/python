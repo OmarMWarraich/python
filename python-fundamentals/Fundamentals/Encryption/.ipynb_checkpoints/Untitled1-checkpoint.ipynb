{
 "cells": [
  {
   "cell_type": "code",
   "execution_count": 4,
   "id": "1121c27a",
   "metadata": {},
   "outputs": [
    {
     "ename": "FileNotFoundError",
     "evalue": "[Errno 2] No such file or directory: './words.txt'",
     "output_type": "error",
     "traceback": [
      "\u001b[0;31m---------------------------------------------------------------------------\u001b[0m",
      "\u001b[0;31mFileNotFoundError\u001b[0m                         Traceback (most recent call last)",
      "\u001b[0;32m<ipython-input-4-ecee48a0a7bc>\u001b[0m in \u001b[0;36m<module>\u001b[0;34m\u001b[0m\n\u001b[0;32m----> 1\u001b[0;31m \u001b[0mwords\u001b[0m \u001b[0;34m=\u001b[0m \u001b[0mopen\u001b[0m\u001b[0;34m(\u001b[0m\u001b[0;34m'./words.txt'\u001b[0m\u001b[0;34m)\u001b[0m\u001b[0;34m\u001b[0m\u001b[0;34m\u001b[0m\u001b[0m\n\u001b[0m\u001b[1;32m      2\u001b[0m \u001b[0mwords\u001b[0m \u001b[0;34m=\u001b[0m \u001b[0mwords\u001b[0m\u001b[0;34m.\u001b[0m\u001b[0mread\u001b[0m\u001b[0;34m(\u001b[0m\u001b[0;34m)\u001b[0m\u001b[0;34m\u001b[0m\u001b[0;34m\u001b[0m\u001b[0m\n\u001b[1;32m      3\u001b[0m \u001b[0;34m\u001b[0m\u001b[0m\n\u001b[1;32m      4\u001b[0m alphabet = ['a','b','c','d','e','f','g','h','i','j','k',\n\u001b[1;32m      5\u001b[0m            'l','m','n','o','p','q','r','s','t','u','v','w','x','y','z']\n",
      "\u001b[0;31mFileNotFoundError\u001b[0m: [Errno 2] No such file or directory: './words.txt'"
     ]
    }
   ],
   "source": [
    "words = open('words.txt')\n",
    "words = words.read()\n",
    "\n",
    "alphabet = ['a','b','c','d','e','f','g','h','i','j','k',\n",
    "           'l','m','n','o','p','q','r','s','t','u','v','w','x','y','z']\n",
    "\n",
    "message = input(\"write a messageyou want to encrypt: \")\n",
    "message = message.lower()\n",
    "\n",
    "for shift in range(1,26):\n",
    "    d = {}\n",
    "    cypherText = ''\n",
    "    for i in range(0,26):\n",
    "        letter = alphabet[i]\n",
    "        shiftedLetter = alphabet[(i+shift)%26]\n",
    "        d[letter] = shiftedLetter\n",
    "    \n",
    "    for letter in message:\n",
    "        if letter in alphabet:\n",
    "            letter = d[letter]\n",
    "            cypherText = cypherText + letter\n",
    "        else:\n",
    "            cypherText = cypherText + letter\n",
    "            \n",
    "    cypherList = cypherText.split()\n",
    "    score = 0\n",
    "    for word in cypherList:\n",
    "        if word in words:\n",
    "            score = score + 1\n",
    "    if (score / len(cypherList)) > 0.5:\n",
    "        print(cypherText)"
   ]
  },
  {
   "cell_type": "code",
   "execution_count": null,
   "id": "432d10c4",
   "metadata": {},
   "outputs": [],
   "source": []
  }
 ],
 "metadata": {
  "kernelspec": {
   "display_name": "Python 3",
   "language": "python",
   "name": "python3"
  },
  "language_info": {
   "codemirror_mode": {
    "name": "ipython",
    "version": 3
   },
   "file_extension": ".py",
   "mimetype": "text/x-python",
   "name": "python",
   "nbconvert_exporter": "python",
   "pygments_lexer": "ipython3",
   "version": "3.8.8"
  }
 },
 "nbformat": 4,
 "nbformat_minor": 5
}
