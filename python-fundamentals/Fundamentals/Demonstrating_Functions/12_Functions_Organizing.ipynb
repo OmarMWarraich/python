{
 "cells": [
  {
   "cell_type": "code",
   "execution_count": 9,
   "id": "175b1b59",
   "metadata": {},
   "outputs": [
    {
     "name": "stdout",
     "output_type": "stream",
     "text": [
      "please make your selection by entering a number:\n",
      "press 1 for computer greeting\n",
      "press 2 for time table\n",
      "press 3 for fatorisation\n",
      "your selection: 3\n",
      "enter a number you want to factorise:2\n",
      "1 is a factor \n",
      "2 is a factor \n",
      "2 is a prime number \n"
     ]
    }
   ],
   "source": [
    "def main():\n",
    "    print('please make your selection by entering a number:')\n",
    "    print('press 1 for computer greeting')\n",
    "    print('press 2 for time table')\n",
    "    print('press 3 for fatorisation')\n",
    "    choice = input('your selection: ')\n",
    "    if choice == '1':\n",
    "        computerGreeting()\n",
    "    if choice == '2':\n",
    "        timesTable()\n",
    "    if choice == '3':\n",
    "        factorisation()\n",
    "        \n",
    "def computerGreeting():\n",
    "    print('Hello human what is your name?')\n",
    "    name = input()\n",
    "    if(name == \"Omar\"):\n",
    "        print(\"Hello\" + name)\n",
    "    elif(name == \"Samar\"):\n",
    "        print(\"Hello Samar\")\n",
    "    elif(name == \"Nasr\"):\n",
    "        print(\"Hello Nasar\")\n",
    "    elif(name == \"Tamseela\"):\n",
    "        print(\"Hello Tamseela\")\n",
    "    else:\n",
    "        print(\"i dont know you\"+ name + \"Go away\")\n",
    "    print(\"the end\")\n",
    "\n",
    "def timesTable():\n",
    "    num = input('enter a number:')\n",
    "    num = int(num)\n",
    "    print('here is your times table')\n",
    "    for i in range(1,101):\n",
    "        print(num*i)\n",
    "            \n",
    "def factorisation():\n",
    "    num = input('enter a number you want to factorise:')\n",
    "    num = int(num)\n",
    "    counter = 0\n",
    "    for i in range(1, num+1):\n",
    "        if(num%1 ==0):\n",
    "            print(str(i) + ' is a factor ')\n",
    "            counter = counter + 1\n",
    "        if(counter ==2):\n",
    "            print(str(num) + ' is a prime number ')\n",
    "                \n",
    "main()\n",
    "    "
   ]
  },
  {
   "cell_type": "code",
   "execution_count": null,
   "id": "47466f2c",
   "metadata": {},
   "outputs": [],
   "source": []
  }
 ],
 "metadata": {
  "kernelspec": {
   "display_name": "Python 3",
   "language": "python",
   "name": "python3"
  },
  "language_info": {
   "codemirror_mode": {
    "name": "ipython",
    "version": 3
   },
   "file_extension": ".py",
   "mimetype": "text/x-python",
   "name": "python",
   "nbconvert_exporter": "python",
   "pygments_lexer": "ipython3",
   "version": "3.8.8"
  }
 },
 "nbformat": 4,
 "nbformat_minor": 5
}
