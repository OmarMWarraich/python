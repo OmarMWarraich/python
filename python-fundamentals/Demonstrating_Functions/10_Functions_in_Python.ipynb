{
 "cells": [
  {
   "cell_type": "code",
   "execution_count": 3,
   "id": "6321ab0d",
   "metadata": {},
   "outputs": [
    {
     "name": "stdout",
     "output_type": "stream",
     "text": [
      "hello\n",
      "hello\n",
      "hello\n",
      "hello\n",
      "hello\n"
     ]
    }
   ],
   "source": [
    "def hello5():\n",
    "    print('hello')\n",
    "    print('hello')\n",
    "    print('hello')\n",
    "    print('hello')\n",
    "    print('hello')\n",
    "hello5()"
   ]
  },
  {
   "cell_type": "code",
   "execution_count": 8,
   "id": "5ac7ef59",
   "metadata": {},
   "outputs": [
    {
     "name": "stdout",
     "output_type": "stream",
     "text": [
      "Whats is your name?Omar\n",
      "hello Omar\n"
     ]
    }
   ],
   "source": [
    "person = str(input('Whats is your name?'))\n",
    "def greet(person):\n",
    "    print('hello ' + person)\n",
    "greet(person)"
   ]
  },
  {
   "cell_type": "code",
   "execution_count": 10,
   "id": "2145c77a",
   "metadata": {},
   "outputs": [
    {
     "name": "stdout",
     "output_type": "stream",
     "text": [
      "Enter the first number1\n",
      "Enter the second number2\n"
     ]
    },
    {
     "data": {
      "text/plain": [
       "3"
      ]
     },
     "execution_count": 10,
     "metadata": {},
     "output_type": "execute_result"
    }
   ],
   "source": [
    "num1 = int(input('Enter the first number'))\n",
    "num2 = int(input('Enter the second number'))\n",
    "\n",
    "def addNums():\n",
    "    return num1 + num2\n",
    "\n",
    "addNums()"
   ]
  },
  {
   "cell_type": "code",
   "execution_count": 12,
   "id": "314ebe54",
   "metadata": {},
   "outputs": [
    {
     "name": "stdout",
     "output_type": "stream",
     "text": [
      "1 is a factor\n",
      "2 is a factor\n",
      "619 is a factor\n",
      "1238 is a factor\n"
     ]
    }
   ],
   "source": [
    "def factorise(num):\n",
    "    for i in range(1, num+1):\n",
    "        if(num%i ==0):\n",
    "            print(str(i) + ' is a factor')\n",
    "            \n",
    "factorise(1238)"
   ]
  },
  {
   "cell_type": "code",
   "execution_count": null,
   "id": "2715186b",
   "metadata": {},
   "outputs": [],
   "source": []
  }
 ],
 "metadata": {
  "kernelspec": {
   "display_name": "Python 3",
   "language": "python",
   "name": "python3"
  },
  "language_info": {
   "codemirror_mode": {
    "name": "ipython",
    "version": 3
   },
   "file_extension": ".py",
   "mimetype": "text/x-python",
   "name": "python",
   "nbconvert_exporter": "python",
   "pygments_lexer": "ipython3",
   "version": "3.8.8"
  }
 },
 "nbformat": 4,
 "nbformat_minor": 5
}
