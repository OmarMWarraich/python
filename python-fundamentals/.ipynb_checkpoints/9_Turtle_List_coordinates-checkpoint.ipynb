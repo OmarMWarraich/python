{
 "cells": [
  {
   "cell_type": "code",
   "execution_count": null,
   "id": "741ddf31",
   "metadata": {},
   "outputs": [],
   "source": [
    "import turtle, random\n",
    "turtle.speed(100)\n",
    "turtle.pensize(1)\n",
    "colours = ['green', 'red', 'blue', 'purple']\n",
    "sizes = [22, 35, 67, 42, 58, 78, 89, 97, 25, 75]\n",
    "locations = [-250, 200, 15, 289, 55, 211, -180, 97, 150, -99]\n",
    "\n",
    "def polygon(sides, sideL):\n",
    "    for i in range(0,sides):\n",
    "        turtle.forward(sideL)\n",
    "        turtle.left(360/sides)\n",
    "        \n",
    "for i in range(1, 11, 2):\n",
    "    y = locations[i]\n",
    "    x = locations[i-1]\n",
    "    turtle.penup()\n",
    "    turtle.goto(x,y)\n",
    "    turtle.pendown()\n",
    "    sides = random.randint(3,8)\n",
    "    turtle.color(random.choice(colours))\n",
    "    turtle.begin_fill()\n",
    "    polygon(sides, random.choice(sizes))\n",
    "    turtle.end_fill()"
   ]
  },
  {
   "cell_type": "code",
   "execution_count": null,
   "id": "041a8210",
   "metadata": {},
   "outputs": [],
   "source": []
  }
 ],
 "metadata": {
  "kernelspec": {
   "display_name": "Python 3",
   "language": "python",
   "name": "python3"
  },
  "language_info": {
   "codemirror_mode": {
    "name": "ipython",
    "version": 3
   },
   "file_extension": ".py",
   "mimetype": "text/x-python",
   "name": "python",
   "nbconvert_exporter": "python",
   "pygments_lexer": "ipython3",
   "version": "3.8.8"
  }
 },
 "nbformat": 4,
 "nbformat_minor": 5
}
