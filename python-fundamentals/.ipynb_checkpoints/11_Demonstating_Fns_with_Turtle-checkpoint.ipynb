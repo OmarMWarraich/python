{
 "cells": [
  {
   "cell_type": "code",
   "execution_count": null,
   "id": "2202cc7a",
   "metadata": {},
   "outputs": [],
   "source": [
    "import turtle, random\n",
    "turtle.speed(100)\n",
    "colors = [\"green\", \"red\"]\n",
    "\n",
    "def polygon(sides,length):\n",
    "    for i in range(0, sides):\n",
    "        turtle.color(random.choice(colors))\n",
    "        turtle.forward(length)\n",
    "        turtle.left(360/sides)\n",
    "    turtle.forward(3)\n",
    "    turtle.left(5)\n",
    "    if length<1:\n",
    "        return False\n",
    "    polygon(sides, length-2)\n",
    "\n",
    "polygon(5, 123)"
   ]
  },
  {
   "cell_type": "code",
   "execution_count": null,
   "id": "40262903",
   "metadata": {},
   "outputs": [],
   "source": []
  }
 ],
 "metadata": {
  "kernelspec": {
   "display_name": "Python 3",
   "language": "python",
   "name": "python3"
  },
  "language_info": {
   "codemirror_mode": {
    "name": "ipython",
    "version": 3
   },
   "file_extension": ".py",
   "mimetype": "text/x-python",
   "name": "python",
   "nbconvert_exporter": "python",
   "pygments_lexer": "ipython3",
   "version": "3.8.8"
  }
 },
 "nbformat": 4,
 "nbformat_minor": 5
}
