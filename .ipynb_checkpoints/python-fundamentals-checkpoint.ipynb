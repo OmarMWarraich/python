{
 "cells": [
  {
   "cell_type": "code",
   "execution_count": null,
   "id": "557268c8",
   "metadata": {},
   "outputs": [],
   "source": [
    "import turtle"
   ]
  },
  {
   "cell_type": "code",
   "execution_count": null,
   "id": "71e5b568",
   "metadata": {},
   "outputs": [],
   "source": [
    "length = int(input('please enter side length:'))\n",
    "angle = int(input('please enter side angle:'))\n",
    "\n",
    "turtle.forward(length)\n",
    "turtle.left(angle)\n",
    "\n",
    "turtle.forward(length)\n",
    "turtle.left(angle)\n",
    "\n",
    "turtle.forward(length)\n",
    "turtle.left(angle)\n",
    "\n",
    "turtle.forward(length)\n",
    "turtle.left(angle)"
   ]
  },
  {
   "cell_type": "code",
   "execution_count": null,
   "id": "10835018",
   "metadata": {},
   "outputs": [],
   "source": []
  }
 ],
 "metadata": {
  "kernelspec": {
   "display_name": "Python 3",
   "language": "python",
   "name": "python3"
  },
  "language_info": {
   "codemirror_mode": {
    "name": "ipython",
    "version": 3
   },
   "file_extension": ".py",
   "mimetype": "text/x-python",
   "name": "python",
   "nbconvert_exporter": "python",
   "pygments_lexer": "ipython3",
   "version": "3.8.8"
  }
 },
 "nbformat": 4,
 "nbformat_minor": 5
}
